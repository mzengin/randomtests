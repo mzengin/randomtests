{
  "nbformat": 4,
  "nbformat_minor": 0,
  "metadata": {
    "colab": {
      "provenance": [],
      "authorship_tag": "ABX9TyN9bVkWK7ImYLZP5QE/3Uhe",
      "include_colab_link": true
    },
    "kernelspec": {
      "name": "python3",
      "display_name": "Python 3"
    },
    "language_info": {
      "name": "python"
    }
  },
  "cells": [
    {
      "cell_type": "markdown",
      "metadata": {
        "id": "view-in-github",
        "colab_type": "text"
      },
      "source": [
        "<a href=\"https://colab.research.google.com/github/mzengin/randomtests/blob/main/reservoir_sampling.ipynb\" target=\"_parent\"><img src=\"https://colab.research.google.com/assets/colab-badge.svg\" alt=\"Open In Colab\"/></a>"
      ]
    },
    {
      "cell_type": "code",
      "execution_count": 19,
      "metadata": {
        "id": "Jnb7-u2zImpQ"
      },
      "outputs": [],
      "source": [
        "import numpy as np\n",
        "\n",
        "def sample_reservoir(stream_list, k):\n",
        "  k_values = stream_list[:k]\n",
        "\n",
        "  i = k\n",
        "  while i < len(stream_list):\n",
        "    index = np.random.randint(low=0, high=i+1)\n",
        "    if index < k:\n",
        "      k_values[index] = stream_list[i]\n",
        "    i = i + 1\n",
        "  return k_values"
      ]
    },
    {
      "cell_type": "code",
      "source": [
        "sample_reservoir(np.array([2,1,9,3,5,99,2,1,88,96,33,42]), 3)"
      ],
      "metadata": {
        "colab": {
          "base_uri": "https://localhost:8080/"
        },
        "id": "P8RClI9pJwZ3",
        "outputId": "0a43abba-bfb7-4a53-d733-cb555688195e"
      },
      "execution_count": 22,
      "outputs": [
        {
          "output_type": "execute_result",
          "data": {
            "text/plain": [
              "array([ 2,  2, 42])"
            ]
          },
          "metadata": {},
          "execution_count": 22
        }
      ]
    },
    {
      "cell_type": "code",
      "source": [],
      "metadata": {
        "id": "Z5fUFG80JwcV"
      },
      "execution_count": null,
      "outputs": []
    }
  ]
}
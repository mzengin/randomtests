{
  "nbformat": 4,
  "nbformat_minor": 0,
  "metadata": {
    "colab": {
      "provenance": [],
      "authorship_tag": "ABX9TyN57FC2IqTufgFDFnsEDzHr",
      "include_colab_link": true
    },
    "kernelspec": {
      "name": "python3",
      "display_name": "Python 3"
    },
    "language_info": {
      "name": "python"
    }
  },
  "cells": [
    {
      "cell_type": "markdown",
      "metadata": {
        "id": "view-in-github",
        "colab_type": "text"
      },
      "source": [
        "<a href=\"https://colab.research.google.com/github/mzengin/randomtests/blob/main/reservoir_sampling.ipynb\" target=\"_parent\"><img src=\"https://colab.research.google.com/assets/colab-badge.svg\" alt=\"Open In Colab\"/></a>"
      ]
    },
    {
      "cell_type": "code",
      "execution_count": 1,
      "metadata": {
        "id": "Jnb7-u2zImpQ"
      },
      "outputs": [],
      "source": [
        "import numpy as np\n",
        "\n",
        "def sample_reservoir(stream_list, k):\n",
        "  k_values = stream_list[:k]\n",
        "\n",
        "  i = k\n",
        "  while i < len(stream_list):\n",
        "    index = np.random.randint(low=0, high=i+1)\n",
        "    if index < k:\n",
        "      k_values[index] = stream_list[i]\n",
        "    i = i + 1\n",
        "  return k_values"
      ]
    },
    {
      "cell_type": "code",
      "source": [
        "sample_reservoir(np.array([2,1,9,3,5,99,2,1,88,96,33,42]), 3)"
      ],
      "metadata": {
        "colab": {
          "base_uri": "https://localhost:8080/"
        },
        "id": "P8RClI9pJwZ3",
        "outputId": "0a43abba-bfb7-4a53-d733-cb555688195e"
      },
      "execution_count": null,
      "outputs": [
        {
          "output_type": "execute_result",
          "data": {
            "text/plain": [
              "array([ 2,  2, 42])"
            ]
          },
          "metadata": {},
          "execution_count": 22
        }
      ]
    },
    {
      "cell_type": "code",
      "source": [
        "class ReservoirSampling:\n",
        "  def __init__(self, k):\n",
        "    self.k = k\n",
        "    self.selected_values = np.zeros(self.k)\n",
        "    self.sum_weights = 0.0\n",
        "    self.c = 0\n",
        "\n",
        "  def sample(self, val, prob):\n",
        "    self.sum_weights += prob\n",
        "\n",
        "    if self.c < self.k:\n",
        "      self.selected_values[self.c] = val\n",
        "      self.c += 1\n",
        "      return True\n",
        "\n",
        "    sampled_weight = np.random.uniform(low=0.0, high=self.sum_weights)\n",
        "    if sampled_weight < prob:\n",
        "      sampled_index = np.random.randint(low=0, high=self.k)\n",
        "      self.selected_values[sampled_index] = val\n",
        "      return True\n",
        "    return False\n",
        "\n"
      ],
      "metadata": {
        "id": "Z5fUFG80JwcV"
      },
      "execution_count": 5,
      "outputs": []
    },
    {
      "cell_type": "code",
      "source": [
        "rs = ReservoirSampling(5)"
      ],
      "metadata": {
        "id": "q50gNYdCa22P"
      },
      "execution_count": 6,
      "outputs": []
    },
    {
      "cell_type": "code",
      "source": [
        "i = 0\n",
        "while i < 50:\n",
        "  num = np.random.uniform(low=0.0, high=20)\n",
        "  prob = np.random.uniform(low=0.0, high=1.0)\n",
        "  #print(num)\n",
        "  if rs.sample(num, prob) == True:\n",
        "    print(f'{num} sampled with prob {prob}!')\n",
        "  else:\n",
        "    print(f'{num} is NOT sampled with prob {prob}!')\n",
        "\n",
        "  i = i + 1"
      ],
      "metadata": {
        "colab": {
          "base_uri": "https://localhost:8080/"
        },
        "id": "ffiE6v7Ucj8V",
        "outputId": "a281ec65-7a6b-4bb8-e392-b89977719077"
      },
      "execution_count": 7,
      "outputs": [
        {
          "output_type": "stream",
          "name": "stdout",
          "text": [
            "8.753502083600477 sampled with prob 0.1820972044764917!\n",
            "19.947414829592102 sampled with prob 0.9434893765988296!\n",
            "13.539728410912439 sampled with prob 0.7823289705743717!\n",
            "8.320218216785765 sampled with prob 0.5980856509962217!\n",
            "7.661696312038064 sampled with prob 0.028384872885721224!\n",
            "3.619518345413475 is NOT sampled with prob 0.20879245333598895!\n",
            "19.118816821318138 is NOT sampled with prob 0.08251860590229676!\n",
            "10.395706146641594 is NOT sampled with prob 0.7870496673107502!\n",
            "7.870730742898289 is NOT sampled with prob 0.2517298034306985!\n",
            "9.779484772945708 sampled with prob 0.5163929873755406!\n",
            "8.393974519022873 is NOT sampled with prob 0.5441758587013258!\n",
            "7.75426862121771 is NOT sampled with prob 0.8683293359920315!\n",
            "9.765829236840496 is NOT sampled with prob 0.12013638336063648!\n",
            "9.040964037128285 is NOT sampled with prob 0.47835245365254675!\n",
            "4.289062856153079 is NOT sampled with prob 0.8610167417210807!\n",
            "4.627270179251582 is NOT sampled with prob 0.21468189084461153!\n",
            "10.555836483298172 is NOT sampled with prob 0.7671688946791677!\n",
            "4.923145977097629 is NOT sampled with prob 0.026777383117844722!\n",
            "14.961210233618 is NOT sampled with prob 0.3516542510585342!\n",
            "4.964167113363123 is NOT sampled with prob 0.5874001144870802!\n",
            "12.813624106695865 is NOT sampled with prob 0.47541393992116465!\n",
            "12.011760761937449 is NOT sampled with prob 0.7647058207518097!\n",
            "8.83381589199946 is NOT sampled with prob 0.5828677636074617!\n",
            "4.999966382610335 is NOT sampled with prob 0.2522361275166334!\n",
            "4.655437661598565 is NOT sampled with prob 0.5326631062600656!\n",
            "14.382745260637135 is NOT sampled with prob 0.8082781729601368!\n",
            "7.097721819787495 is NOT sampled with prob 0.5493050471803664!\n",
            "16.13505939303638 is NOT sampled with prob 0.6161099685634414!\n",
            "10.41686723667711 is NOT sampled with prob 0.36758747296093564!\n",
            "3.6926308916694217 is NOT sampled with prob 0.7967793341425745!\n",
            "9.928072538014623 is NOT sampled with prob 0.3557637239471527!\n",
            "17.555392607711003 is NOT sampled with prob 0.3695228877696458!\n",
            "8.705490374102933 is NOT sampled with prob 0.843815697730737!\n",
            "17.636069936744903 is NOT sampled with prob 0.4277028075112962!\n",
            "8.318228703413448 is NOT sampled with prob 0.035443146529612446!\n",
            "9.904856125208731 is NOT sampled with prob 0.615540188612458!\n",
            "7.444356278976181 is NOT sampled with prob 0.4861287770251288!\n",
            "19.822176130022516 is NOT sampled with prob 0.2032818484266038!\n",
            "19.63151609472533 is NOT sampled with prob 0.8071547352592462!\n",
            "14.618452333058386 is NOT sampled with prob 0.7556087536353862!\n",
            "8.775792899325268 is NOT sampled with prob 0.8139251786732596!\n",
            "8.923949304899004 is NOT sampled with prob 0.094874116197049!\n",
            "11.426247960838296 is NOT sampled with prob 0.8893010438155472!\n",
            "18.46704919090541 is NOT sampled with prob 0.0881432050874571!\n",
            "4.314601795621673 is NOT sampled with prob 0.44309753881775726!\n",
            "16.457193504910027 is NOT sampled with prob 0.5289484529919731!\n",
            "12.939550387913215 is NOT sampled with prob 0.9667599062486559!\n",
            "17.501145597762005 is NOT sampled with prob 0.8431421116300205!\n",
            "5.068465601286736 is NOT sampled with prob 0.6735306996637275!\n",
            "3.626164666655436 is NOT sampled with prob 0.6317660049665305!\n"
          ]
        }
      ]
    },
    {
      "cell_type": "code",
      "source": [],
      "metadata": {
        "id": "AmzuYvCQcj-q"
      },
      "execution_count": null,
      "outputs": []
    },
    {
      "cell_type": "code",
      "source": [],
      "metadata": {
        "id": "NI4QCdhwckB1"
      },
      "execution_count": null,
      "outputs": []
    }
  ]
}
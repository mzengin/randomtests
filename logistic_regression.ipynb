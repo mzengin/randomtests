{
  "nbformat": 4,
  "nbformat_minor": 0,
  "metadata": {
    "colab": {
      "provenance": [],
      "authorship_tag": "ABX9TyOKdFgkTi+mVRgVE53mHc9L",
      "include_colab_link": true
    },
    "kernelspec": {
      "name": "python3",
      "display_name": "Python 3"
    },
    "language_info": {
      "name": "python"
    }
  },
  "cells": [
    {
      "cell_type": "markdown",
      "metadata": {
        "id": "view-in-github",
        "colab_type": "text"
      },
      "source": [
        "<a href=\"https://colab.research.google.com/github/mzengin/randomtests/blob/main/logistic_regression.ipynb\" target=\"_parent\"><img src=\"https://colab.research.google.com/assets/colab-badge.svg\" alt=\"Open In Colab\"/></a>"
      ]
    },
    {
      "cell_type": "code",
      "execution_count": 1,
      "metadata": {
        "id": "DT1twmVEXZoQ"
      },
      "outputs": [],
      "source": [
        "import numpy as np"
      ]
    },
    {
      "cell_type": "markdown",
      "source": [
        "Let's create some data for classification task"
      ],
      "metadata": {
        "id": "lDlZylxuYfk9"
      }
    },
    {
      "cell_type": "code",
      "source": [
        "x1 = np.random.random_sample((50,2)) * 10 + np.random.random_sample((50,2)) * 2"
      ],
      "metadata": {
        "id": "O3XAk7HCXemr"
      },
      "execution_count": 5,
      "outputs": []
    },
    {
      "cell_type": "code",
      "source": [
        "x2 = np.random.random_sample((50,2)) * 5 - np.random.random_sample((50,2)) * 2"
      ],
      "metadata": {
        "id": "qv0wsM17XeqA"
      },
      "execution_count": 6,
      "outputs": []
    },
    {
      "cell_type": "code",
      "source": [
        "import matplotlib.pyplot as plt\n"
      ],
      "metadata": {
        "id": "vnBSG-RTXes6"
      },
      "execution_count": 4,
      "outputs": []
    },
    {
      "cell_type": "code",
      "source": [
        "plt.scatter(x1[:,0], x1[:,1], c='red')\n",
        "plt.scatter(x2[:,0], x2[:,1], c='blue')\n",
        "plt.show()"
      ],
      "metadata": {
        "colab": {
          "base_uri": "https://localhost:8080/",
          "height": 431
        },
        "id": "ySRMem_rX6T0",
        "outputId": "4824309e-2232-4046-ac77-253fd0de5607"
      },
      "execution_count": 13,
      "outputs": [
        {
          "output_type": "display_data",
          "data": {
            "text/plain": [
              "<Figure size 640x480 with 1 Axes>"
            ],
            "image/png": "[encoded data removed]"
          },
          "metadata": {}
        }
      ]
    },
    {
      "cell_type": "code",
      "source": [
        "X = np.vstack((x1, x2))"
      ],
      "metadata": {
        "id": "wizmtfTHYePB"
      },
      "execution_count": 15,
      "outputs": []
    },
    {
      "cell_type": "code",
      "source": [
        "y = np.vstack((np.ones((50,1)), np.zeros((50,1))))"
      ],
      "metadata": {
        "id": "T4w672w8YrKI"
      },
      "execution_count": 16,
      "outputs": []
    },
    {
      "cell_type": "markdown",
      "source": [
        "Not good! Let's get shuffled version of it"
      ],
      "metadata": {
        "id": "Oa6SLDUiY-BZ"
      }
    },
    {
      "cell_type": "code",
      "source": [
        "selected_indices = np.random.choice(np.arange(0,100), size=100, replace=False)"
      ],
      "metadata": {
        "id": "QWi9dYfoY6Ki"
      },
      "execution_count": 20,
      "outputs": []
    },
    {
      "cell_type": "code",
      "source": [
        "X = X[selected_indices]\n",
        "y = y[selected_indices]"
      ],
      "metadata": {
        "id": "-d6b6NOHZehD"
      },
      "execution_count": 22,
      "outputs": []
    },
    {
      "cell_type": "code",
      "source": [
        "train_X = X[:75]\n",
        "train_y = y[:75]\n",
        "test_X = X[75:]\n",
        "test_y = y[75:]"
      ],
      "metadata": {
        "id": "gtxOL004ZipZ"
      },
      "execution_count": 24,
      "outputs": []
    },
    {
      "cell_type": "code",
      "source": [
        "class LogisticRegression:\n",
        "  def __init__(self):\n",
        "    pass\n",
        "\n",
        "  def sigmoid(self, val):\n",
        "    return 1/(1 + np.exp(-val))\n",
        "\n",
        "  def predict(self, X):\n",
        "    X = np.hstack((X, np.ones((X.shape[0], 1))))\n",
        "    return self.sigmoid(np.dot(X, self.theta))\n",
        "\n",
        "  def loss(self, prediction, y):\n",
        "    return (-1/prediction.shape[0]) * np.sum(y * np.log(prediction) + (1-y) * np.log(1-prediction))\n",
        "\n",
        "  def fit(self, X, y, lr = 1e-2, iteration=100):\n",
        "    m = X.shape[0]\n",
        "    n = X.shape[1] + 1\n",
        "\n",
        "    self.theta = np.random.random_sample((n, 1))\n",
        "    # theta dimension is n by 1\n",
        "    print(X.shape)\n",
        "\n",
        "    X = np.hstack((X, np.ones((m, 1))))\n",
        "    print(X.shape)\n",
        "    # X dimension is m by n\n",
        "    loss_arr = []\n",
        "    for i in range(iteration):\n",
        "      # train her\n",
        "      prediction = self.sigmoid(np.dot(X, self.theta))\n",
        "      loss_v = self.loss(prediction, y)\n",
        "      if i%100 == 0:\n",
        "        print(f\"Iteration {i}, cost: {loss_v}\")\n",
        "      loss_arr.append(loss_v)\n",
        "      # prediction m by 1\n",
        "      residual = prediction - y\n",
        "      self.theta = self.theta - lr * np.dot(X.T, residual)\n",
        "\n",
        "    return loss_arr"
      ],
      "metadata": {
        "id": "eyqn6SswaNAj"
      },
      "execution_count": 45,
      "outputs": []
    },
    {
      "cell_type": "code",
      "source": [
        "log_res = LogisticRegression()"
      ],
      "metadata": {
        "id": "ShKNpwtdaNDX"
      },
      "execution_count": 46,
      "outputs": []
    },
    {
      "cell_type": "code",
      "source": [
        "loss_r = log_res.fit(train_X, train_y, 0.01, 1000)"
      ],
      "metadata": {
        "colab": {
          "base_uri": "https://localhost:8080/"
        },
        "id": "lZquvhbCaNGA",
        "outputId": "c9960294-acf2-402c-97b4-d7dae8108cd8"
      },
      "execution_count": 47,
      "outputs": [
        {
          "output_type": "stream",
          "name": "stdout",
          "text": [
            "(75, 2)\n",
            "(75, 3)\n",
            "Iteration 0, cost: 0.5889773402338527\n",
            "Iteration 100, cost: 0.22859359673054983\n",
            "Iteration 200, cost: 0.2233935966271381\n",
            "Iteration 300, cost: 0.22253156155327353\n",
            "Iteration 400, cost: 0.22234206931754344\n",
            "Iteration 500, cost: 0.2222956133909727\n",
            "Iteration 600, cost: 0.22228364339612072\n",
            "Iteration 700, cost: 0.22228048338268827\n",
            "Iteration 800, cost: 0.2222796388918468\n",
            "Iteration 900, cost: 0.22227941179079888\n"
          ]
        }
      ]
    },
    {
      "cell_type": "code",
      "source": [
        "plt.scatter(np.arange(1, len(loss_r)+1), loss_r)"
      ],
      "metadata": {
        "colab": {
          "base_uri": "https://localhost:8080/",
          "height": 448
        },
        "id": "j_Bm2hyuaNIR",
        "outputId": "01543154-02ac-454a-db39-431d2676649c"
      },
      "execution_count": 48,
      "outputs": [
        {
          "output_type": "execute_result",
          "data": {
            "text/plain": [
              "<matplotlib.collections.PathCollection at 0x787499e8b5b0>"
            ]
          },
          "metadata": {},
          "execution_count": 48
        },
        {
          "output_type": "display_data",
          "data": {
            "text/plain": [
              "<Figure size 640x480 with 1 Axes>"
            ],
            "image/png": "[encoded data removed]"
          },
          "metadata": {}
        }
      ]
    },
    {
      "cell_type": "code",
      "source": [
        "log_res.predict(test_X)"
      ],
      "metadata": {
        "colab": {
          "base_uri": "https://localhost:8080/"
        },
        "id": "bujcn-btgbHt",
        "outputId": "65174329-6c7c-4797-be5e-df99556918ef"
      },
      "execution_count": 51,
      "outputs": [
        {
          "output_type": "execute_result",
          "data": {
            "text/plain": [
              "array([[0.98545068],\n",
              "       [0.97018374],\n",
              "       [0.0650056 ],\n",
              "       [0.99884948],\n",
              "       [0.70966658],\n",
              "       [0.03368054],\n",
              "       [0.46122872],\n",
              "       [0.84329488],\n",
              "       [0.98888885],\n",
              "       [0.98895894],\n",
              "       [0.59094415],\n",
              "       [0.97573047],\n",
              "       [0.95799194],\n",
              "       [0.9437599 ],\n",
              "       [0.99956286],\n",
              "       [0.44459041],\n",
              "       [0.99884011],\n",
              "       [0.00482363],\n",
              "       [0.07079033],\n",
              "       [0.09764104],\n",
              "       [0.12013568],\n",
              "       [0.99812903],\n",
              "       [0.03591748],\n",
              "       [0.00463435],\n",
              "       [0.99885476]])"
            ]
          },
          "metadata": {},
          "execution_count": 51
        }
      ]
    },
    {
      "cell_type": "code",
      "source": [
        "test_y"
      ],
      "metadata": {
        "colab": {
          "base_uri": "https://localhost:8080/"
        },
        "id": "scXEepo6hcqE",
        "outputId": "f7368471-7614-4d72-d567-31a2ac6fde1e"
      },
      "execution_count": 52,
      "outputs": [
        {
          "output_type": "execute_result",
          "data": {
            "text/plain": [
              "array([[1.],\n",
              "       [1.],\n",
              "       [0.],\n",
              "       [1.],\n",
              "       [1.],\n",
              "       [0.],\n",
              "       [0.],\n",
              "       [1.],\n",
              "       [1.],\n",
              "       [1.],\n",
              "       [0.],\n",
              "       [1.],\n",
              "       [1.],\n",
              "       [1.],\n",
              "       [1.],\n",
              "       [0.],\n",
              "       [1.],\n",
              "       [0.],\n",
              "       [0.],\n",
              "       [0.],\n",
              "       [0.],\n",
              "       [1.],\n",
              "       [0.],\n",
              "       [0.],\n",
              "       [1.]])"
            ]
          },
          "metadata": {},
          "execution_count": 52
        }
      ]
    }
  ]
}
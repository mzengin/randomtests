{
  "nbformat": 4,
  "nbformat_minor": 0,
  "metadata": {
    "colab": {
      "provenance": [],
      "authorship_tag": "ABX9TyOXgTO0NXaYT3llG/udDtRB",
      "include_colab_link": true
    },
    "kernelspec": {
      "name": "python3",
      "display_name": "Python 3"
    },
    "language_info": {
      "name": "python"
    }
  },
  "cells": [
    {
      "cell_type": "markdown",
      "metadata": {
        "id": "view-in-github",
        "colab_type": "text"
      },
      "source": [
        "<a href=\"https://colab.research.google.com/github/mzengin/randomtests/blob/main/evaluation_metrics.ipynb\" target=\"_parent\"><img src=\"https://colab.research.google.com/assets/colab-badge.svg\" alt=\"Open In Colab\"/></a>"
      ]
    },
    {
      "cell_type": "code",
      "execution_count": 2,
      "metadata": {
        "id": "Sj_teZs__D5d"
      },
      "outputs": [],
      "source": [
        "import numpy as np"
      ]
    },
    {
      "cell_type": "code",
      "source": [
        "relevance = np.random.randint(low = 0, high=3, size=50)"
      ],
      "metadata": {
        "id": "etSVlQlGL-2e"
      },
      "execution_count": 6,
      "outputs": []
    },
    {
      "cell_type": "code",
      "source": [
        "relevance"
      ],
      "metadata": {
        "colab": {
          "base_uri": "https://localhost:8080/"
        },
        "id": "psSGc7nZMK8F",
        "outputId": "5fc27287-caed-4e6e-b928-2562640858a0"
      },
      "execution_count": 7,
      "outputs": [
        {
          "output_type": "execute_result",
          "data": {
            "text/plain": [
              "array([1, 2, 1, 0, 1, 1, 0, 1, 2, 1, 0, 1, 2, 0, 2, 0, 1, 1, 0, 2, 0, 1,\n",
              "       2, 1, 2, 2, 0, 0, 1, 0, 1, 0, 0, 0, 2, 0, 1, 1, 1, 0, 1, 1, 0, 1,\n",
              "       0, 2, 1, 0, 2, 2])"
            ]
          },
          "metadata": {},
          "execution_count": 7
        }
      ]
    },
    {
      "cell_type": "code",
      "source": [
        "# No negative relevance value\n",
        "class EvaluationIR:\n",
        "  def __init__(self):\n",
        "    pass\n",
        "\n",
        "  def precision(self, relevance, k):\n",
        "\n",
        "    relevance = np.array(relevance)\n",
        "    binned_relevance = np.bincount(relevance)\n",
        "    return (len(relevance)-binned_relevance[0])/len(relevance)\n",
        "\n",
        "  def recall(self, relevance, k):\n",
        "    binned_relevance = np.bincount(relevance)\n",
        "    rel_count = len(relevance) - binned_relevance[0]\n",
        "\n",
        "    if rel_count == 0:\n",
        "      return None\n",
        "\n",
        "    binned_relevance_k = np.bincount(relevance[:k])\n",
        "    ret_rel_cnt = k - binned_relevance_k[0]\n",
        "\n",
        "    return ret_rel_cnt/rel_count\n",
        "\n",
        "\n",
        "  def dcg(self, relevance, k):\n",
        "    relevance = relevance[:k]\n",
        "    dcg_score =  np.sum(relevance/ np.log2(np.arange(2, k+2)))\n",
        "    return dcg_score\n",
        "\n",
        "  def ndcg(self, relevance, k):\n",
        "    if len(relevance) < k:\n",
        "      relevance = relevance + [0 for _ in range(k - len(relevance))]\n",
        "\n",
        "    relevance = np.array(relevance)\n",
        "    sorted_relevance = np.sort(relevance)\n",
        "    sorted_relevance = sorted_relevance[::-1]\n",
        "    sorted_relevance = sorted_relevance[:k]\n",
        "\n",
        "    idcg_score = self.dcg(sorted_relevance, k)\n",
        "    dcg_score = self.dcg(relevance[:k], k)\n",
        "    return dcg_score/idcg_score\n"
      ],
      "metadata": {
        "id": "fhDfcmQZE4h1"
      },
      "execution_count": 30,
      "outputs": []
    },
    {
      "cell_type": "code",
      "source": [
        "eval = EvaluationIR()"
      ],
      "metadata": {
        "id": "Y4ae4LCcOQAA"
      },
      "execution_count": 34,
      "outputs": []
    },
    {
      "cell_type": "code",
      "source": [
        "eval.recall(relevance, 10)"
      ],
      "metadata": {
        "colab": {
          "base_uri": "https://localhost:8080/"
        },
        "id": "G2XXGx2wOQC7",
        "outputId": "badcdffc-9119-4d97-8a22-10670fa66aa5"
      },
      "execution_count": 35,
      "outputs": [
        {
          "output_type": "execute_result",
          "data": {
            "text/plain": [
              "0.25"
            ]
          },
          "metadata": {},
          "execution_count": 35
        }
      ]
    },
    {
      "cell_type": "code",
      "source": [
        "class EvaluationML:\n",
        "  def __init__(self):\n",
        "    pass\n",
        "\n",
        "  def true_positive(self, prediction, labels):\n",
        "    tp = 0\n",
        "    for pred, label in zip(prediction, labels):\n",
        "      if pred == 1 and label == 1:\n",
        "        tp += 1\n",
        "    return tp\n",
        "\n",
        "  def false_positive(self, prediction, labels):\n",
        "    fp = 0\n",
        "    for pred, label in zip(prediction, labels):\n",
        "      if pred == 1 and label == 0:\n",
        "        fp += 1\n",
        "    return fp\n",
        "\n",
        "  def true_negative(self, prediction, labels):\n",
        "    tn = 0\n",
        "    for pred, label in zip(prediction, labels):\n",
        "      if pred == 0 and label == 0:\n",
        "        tn += 1\n",
        "    return tn\n",
        "\n",
        "  def false_negative(self, prediction, labels):\n",
        "    fn = 0\n",
        "    for pred, label in zip(prediction, labels):\n",
        "      if pred == 0 and label == 1:\n",
        "        fn += 1\n",
        "    return fn\n",
        "\n",
        "  def precision(self, prediction, labels):\n",
        "    tp = self.true_positive(prediction, labels)\n",
        "    fp = self.false_positive(prediction, labels)\n",
        "\n",
        "    return tp/(tp + fp + 1e-5)\n",
        "\n",
        "  def recall(self, prediction, labels):\n",
        "    tp = self.true_positive(prediction, labels)\n",
        "    fn = self.false_negative(prediction, labels)\n",
        "    return tp/(tp + fn + 1e-5)\n",
        "\n",
        "  def get_confusion_matrix(self, prediction, labels):\n",
        "    tp = self.true_positive(prediction, labels)\n",
        "    fp = self.false_positive(prediction, labels)\n",
        "    tn = self.true_negative(prediction, labels)\n",
        "    fn = self.false_negative(prediction, labels)\n",
        "\n",
        "    #            Actual 0,   Actual 1\n",
        "    # Predict 0  TN          FN\n",
        "    # Predict 1  FP          TP\n",
        "    return {'tn': tn, 'fn': fn, 'fp': fp, 'tp': tp}"
      ],
      "metadata": {
        "id": "Ksn2F-6aPnuV"
      },
      "execution_count": 73,
      "outputs": []
    },
    {
      "cell_type": "code",
      "source": [
        "evalml = EvaluationML()"
      ],
      "metadata": {
        "id": "1rDurky2Pnxa"
      },
      "execution_count": 74,
      "outputs": []
    },
    {
      "cell_type": "code",
      "source": [
        "v1= np.array([1,1,0,1])"
      ],
      "metadata": {
        "id": "OnRgmc7DPn0V"
      },
      "execution_count": 46,
      "outputs": []
    },
    {
      "cell_type": "code",
      "source": [
        "evalml.recall(np.array([1,0,1,1]),np.array([1,1,1,1]))"
      ],
      "metadata": {
        "colab": {
          "base_uri": "https://localhost:8080/"
        },
        "id": "wuFvQ818Pn7m",
        "outputId": "79442c77-3115-44b7-faee-bde4a1db0672"
      },
      "execution_count": 76,
      "outputs": [
        {
          "output_type": "execute_result",
          "data": {
            "text/plain": [
              "0.7499981250046875"
            ]
          },
          "metadata": {},
          "execution_count": 76
        }
      ]
    }
  ]
}
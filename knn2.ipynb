{
  "nbformat": 4,
  "nbformat_minor": 0,
  "metadata": {
    "colab": {
      "provenance": [],
      "authorship_tag": "ABX9TyNCGJShA3oLYjATz0/CG3m4",
      "include_colab_link": true
    },
    "kernelspec": {
      "name": "python3",
      "display_name": "Python 3"
    },
    "language_info": {
      "name": "python"
    }
  },
  "cells": [
    {
      "cell_type": "markdown",
      "metadata": {
        "id": "view-in-github",
        "colab_type": "text"
      },
      "source": [
        "<a href=\"https://colab.research.google.com/github/mzengin/randomtests/blob/main/knn2.ipynb\" target=\"_parent\"><img src=\"https://colab.research.google.com/assets/colab-badge.svg\" alt=\"Open In Colab\"/></a>"
      ]
    },
    {
      "cell_type": "code",
      "execution_count": 118,
      "metadata": {
        "colab": {
          "base_uri": "https://localhost:8080/"
        },
        "id": "QUG3Yb8Tny6c",
        "outputId": "3f9887d4-456d-4eab-f8fa-c8ccf97e0f06"
      },
      "outputs": [
        {
          "output_type": "stream",
          "name": "stdout",
          "text": [
            "[[0.15192502 0.29709119]\n",
            " [0.38023798 0.19269719]\n",
            " [0.93850955 0.46513295]\n",
            " [0.29475536 0.61202732]\n",
            " [0.60859695 0.07955521]\n",
            " [0.21340204 0.16974673]\n",
            " [0.8750566  0.22791366]\n",
            " [0.69871059 0.49296033]\n",
            " [0.972046   0.58384149]\n",
            " [0.05619617 0.57442289]]\n",
            "[1 2 0 0 2 1 2 2 1 1]\n",
            "[[0.55066035 0.9776939 ]\n",
            " [0.88870137 0.21721498]]\n",
            "[[0.78880283 0.80328302 0.64276413 0.44631761 0.90000541 0.8755123\n",
            "  0.81694757 0.50683873 0.57678902 0.63806139]\n",
            " [0.74109351 0.50905416 0.25287186 0.71319608 0.31210366 0.67696559\n",
            "  0.01733902 0.33486116 0.37598049 0.90590419]]\n",
            "[[3 7 8]\n",
            " [6 2 4]]\n",
            "[0. 2.]\n"
          ]
        }
      ],
      "source": [
        "\n",
        "\n",
        "class KNN2:\n",
        "  def __init__(self, k):\n",
        "    self.k = k\n",
        "    self.smoothing_value = 1e-8\n",
        "\n",
        "  def train(self, X, y):\n",
        "    self.X = X\n",
        "    self.y = y\n",
        "\n",
        "  def find_distances(self, X_test):\n",
        "    distance_vector = np.zeros((X_test.shape[0], self.X.shape[0]))\n",
        "\n",
        "    for i, x_i in enumerate(X_test):\n",
        "      #x_i -> 1 X 2\n",
        "      #X -> m X 2\n",
        "      distances = np.linalg.norm(X-x_i, axis=1)\n",
        "      distance_vector[i] = distances\n",
        "    return distance_vector\n",
        "\n",
        "  def predict(self, X_test):\n",
        "    distances = self.find_distances(X_test)\n",
        "    print(distances)\n",
        "    distances = np.argsort(distances, axis=1)\n",
        "    distances = distances[:,0:self.k]\n",
        "    print(distances)\n",
        "    y_pred = np.zeros(X_test.shape[0])\n",
        "\n",
        "    for i, distance in enumerate(distances):\n",
        "      label = np.argmax(np.bincount(self.y[distance]))\n",
        "      y_pred[i] = label\n",
        "    return y_pred\n",
        "\n",
        "if __name__ == \"__main__\":\n",
        "    X = np.random.rand(10,2)\n",
        "    y = np.random.randint(low=0, high=3, size=10)\n",
        "\n",
        "    print(X)\n",
        "    print(y)\n",
        "\n",
        "    X_test = np.random.rand(2,2)\n",
        "    y_test = np.random.randint(low=0, high=3, size=2)\n",
        "\n",
        "    print(X_test)\n",
        "\n",
        "    KNN = KNN2(k=3)\n",
        "    KNN.train(X, y)\n",
        "\n",
        "\n",
        "    labels = KNN.predict(X_test)\n",
        "    print(labels)\n",
        "\n"
      ]
    },
    {
      "cell_type": "code",
      "source": [
        "X = np.random.rand(100,2)\n"
      ],
      "metadata": {
        "id": "QxphTSVqoVEV"
      },
      "execution_count": 90,
      "outputs": []
    },
    {
      "cell_type": "code",
      "source": [
        "X_test = np.random.rand(3,2)"
      ],
      "metadata": {
        "id": "7WhYwDNP3ukL"
      },
      "execution_count": 91,
      "outputs": []
    },
    {
      "cell_type": "code",
      "source": [
        "X_test[0]"
      ],
      "metadata": {
        "colab": {
          "base_uri": "https://localhost:8080/"
        },
        "id": "TguZZFR73um5",
        "outputId": "3f4e5a27-bb8c-4b8b-91fb-3657bc92d603"
      },
      "execution_count": 92,
      "outputs": [
        {
          "output_type": "execute_result",
          "data": {
            "text/plain": [
              "array([0.62473466, 0.06847739])"
            ]
          },
          "metadata": {},
          "execution_count": 92
        }
      ]
    },
    {
      "cell_type": "code",
      "source": [
        "np.linalg.norm(X - X_test[0], axis=1)"
      ],
      "metadata": {
        "colab": {
          "base_uri": "https://localhost:8080/"
        },
        "id": "HveYDqoQ3upi",
        "outputId": "1eb0c234-c941-422c-da49-b172dcdb2d27"
      },
      "execution_count": 96,
      "outputs": [
        {
          "output_type": "execute_result",
          "data": {
            "text/plain": [
              "array([0.33168666, 0.5254477 , 0.34617828, 0.63355979, 0.53869822,\n",
              "       0.72349774, 0.94849438, 0.76061267, 0.15531012, 0.7669465 ,\n",
              "       0.95377863, 0.64085284, 0.56299992, 0.36952217, 0.72444252,\n",
              "       0.51778381, 0.5194873 , 0.8973982 , 0.65050243, 0.41336191,\n",
              "       0.24112207, 0.59731607, 0.59830731, 0.80321969, 0.63454223,\n",
              "       0.73626532, 1.09564967, 0.7192449 , 0.17175483, 0.27475806,\n",
              "       0.22325062, 0.46293807, 0.37361647, 0.40513407, 0.54841704,\n",
              "       0.87180499, 0.58239878, 0.71492775, 0.3478064 , 0.88915298,\n",
              "       0.93632514, 0.78136016, 0.37758166, 0.36714719, 0.9369299 ,\n",
              "       0.47913677, 0.86747966, 0.26072124, 0.34241815, 0.96436319,\n",
              "       0.20371933, 0.94164902, 0.37098869, 0.59120058, 0.70540331,\n",
              "       0.81257999, 0.48774481, 0.22403749, 0.5743541 , 0.23309816,\n",
              "       0.47850629, 0.57307759, 0.3623477 , 0.81913175, 0.32086021,\n",
              "       0.68212888, 0.40896154, 0.37630068, 0.40403836, 0.24665049,\n",
              "       0.59649449, 0.22526366, 0.62164776, 0.34372615, 0.91772114,\n",
              "       0.11621407, 0.08496532, 0.8313955 , 0.50838686, 0.63681055,\n",
              "       0.41909279, 0.60177432, 0.42823635, 0.37650368, 0.71344932,\n",
              "       0.29042498, 0.8918267 , 0.92956745, 0.5588596 , 0.57570305,\n",
              "       0.39215016, 0.74609739, 0.68571015, 0.6727344 , 0.26219598,\n",
              "       0.59797002, 0.20128576, 0.75051204, 0.90222616, 0.64322019])"
            ]
          },
          "metadata": {},
          "execution_count": 96
        }
      ]
    },
    {
      "cell_type": "code",
      "source": [
        "X"
      ],
      "metadata": {
        "colab": {
          "base_uri": "https://localhost:8080/"
        },
        "id": "TsochUix3z6i",
        "outputId": "51b38e1c-dfa8-4712-99ec-6ca30a6a2dba"
      },
      "execution_count": 103,
      "outputs": [
        {
          "output_type": "execute_result",
          "data": {
            "text/plain": [
              "array([[0.63893144, 0.56990783],\n",
              "       [0.60173653, 0.76229022],\n",
              "       [0.39330505, 0.13008448],\n",
              "       [0.37013108, 0.28527901],\n",
              "       [0.59194967, 0.08286027]])"
            ]
          },
          "metadata": {},
          "execution_count": 103
        }
      ]
    },
    {
      "cell_type": "code",
      "source": [],
      "metadata": {
        "id": "mtrf7gtU3z9X"
      },
      "execution_count": null,
      "outputs": []
    },
    {
      "cell_type": "code",
      "source": [
        "X[:,0:1]"
      ],
      "metadata": {
        "colab": {
          "base_uri": "https://localhost:8080/"
        },
        "id": "mbb5VluG30AH",
        "outputId": "9fc48fa8-eeb5-4d56-bc09-77b17cbe5128"
      },
      "execution_count": 104,
      "outputs": [
        {
          "output_type": "execute_result",
          "data": {
            "text/plain": [
              "array([[0.63893144],\n",
              "       [0.60173653],\n",
              "       [0.39330505],\n",
              "       [0.37013108],\n",
              "       [0.59194967]])"
            ]
          },
          "metadata": {},
          "execution_count": 104
        }
      ]
    },
    {
      "cell_type": "code",
      "source": [],
      "metadata": {
        "id": "kMmq5Rjj30C7"
      },
      "execution_count": null,
      "outputs": []
    },
    {
      "cell_type": "code",
      "source": [
        "#random.randint(low, high=None, size=None, dtype=int)\n",
        "y = np.random.randint(low=0, high=4, size=100)"
      ],
      "metadata": {
        "id": "S8HYWSUUzQaj"
      },
      "execution_count": 79,
      "outputs": []
    },
    {
      "cell_type": "code",
      "source": [
        "y"
      ],
      "metadata": {
        "colab": {
          "base_uri": "https://localhost:8080/"
        },
        "id": "pMdpy2GjzQdw",
        "outputId": "ec1ee724-0762-4834-b82b-be0735560ba9"
      },
      "execution_count": 80,
      "outputs": [
        {
          "output_type": "execute_result",
          "data": {
            "text/plain": [
              "array([1, 2, 3, 3, 2, 1, 0, 0, 3, 2, 0, 3, 1, 0, 3, 3, 2, 3, 1, 0, 0, 3,\n",
              "       0, 3, 2, 1, 1, 0, 1, 3, 0, 3, 0, 3, 1, 2, 2, 2, 2, 2, 1, 3, 3, 2,\n",
              "       0, 2, 2, 1, 2, 3, 1, 0, 1, 3, 1, 3, 2, 2, 2, 0, 2, 1, 3, 0, 3, 0,\n",
              "       1, 0, 1, 2, 2, 2, 2, 1, 2, 0, 2, 2, 2, 0, 0, 0, 3, 3, 0, 3, 1, 1,\n",
              "       3, 3, 3, 2, 1, 1, 0, 1, 1, 0, 0, 0])"
            ]
          },
          "metadata": {},
          "execution_count": 80
        }
      ]
    },
    {
      "cell_type": "code",
      "source": [
        "np.zeros(10)"
      ],
      "metadata": {
        "colab": {
          "base_uri": "https://localhost:8080/"
        },
        "id": "9pjl338SzQgW",
        "outputId": "4f3870e4-01e0-4357-b319-b0047b806ef4"
      },
      "execution_count": 89,
      "outputs": [
        {
          "output_type": "execute_result",
          "data": {
            "text/plain": [
              "array([0., 0., 0., 0., 0., 0., 0., 0., 0., 0.])"
            ]
          },
          "metadata": {},
          "execution_count": 89
        }
      ]
    },
    {
      "cell_type": "code",
      "source": [
        "array = np.array([1,2,1, 1])\n",
        "\n",
        "bincount = np.bincount(array)"
      ],
      "metadata": {
        "id": "i0mFJZYNCOo6"
      },
      "execution_count": 110,
      "outputs": []
    },
    {
      "cell_type": "code",
      "source": [
        "bincount"
      ],
      "metadata": {
        "colab": {
          "base_uri": "https://localhost:8080/"
        },
        "id": "G26DMgl_COri",
        "outputId": "21d9f8ab-3b78-48ca-a655-f339fa4c7afa"
      },
      "execution_count": 111,
      "outputs": [
        {
          "output_type": "execute_result",
          "data": {
            "text/plain": [
              "array([0, 3, 1])"
            ]
          },
          "metadata": {},
          "execution_count": 111
        }
      ]
    },
    {
      "cell_type": "code",
      "source": [
        "np.zeros(5)"
      ],
      "metadata": {
        "colab": {
          "base_uri": "https://localhost:8080/"
        },
        "id": "Aqn_Mc_5COu4",
        "outputId": "0c156773-6582-4e97-b78f-73e82c86ff67"
      },
      "execution_count": 112,
      "outputs": [
        {
          "output_type": "execute_result",
          "data": {
            "text/plain": [
              "array([0., 0., 0., 0., 0.])"
            ]
          },
          "metadata": {},
          "execution_count": 112
        }
      ]
    }
  ]
}